{
 "cells": [
  {
   "cell_type": "code",
   "execution_count": 4,
   "id": "deadly-spanish",
   "metadata": {},
   "outputs": [],
   "source": [
    "from app import crud, models, schemas\n",
    "from app.db.session import SessionLocal\n",
    "\n",
    "db = SessionLocal()"
   ]
  },
  {
   "cell_type": "code",
   "execution_count": 5,
   "id": "peaceful-pricing",
   "metadata": {},
   "outputs": [],
   "source": [
    "USER_LIST = [user.last_name.lower() + ', ' + user.first_name.lower() for user in crud.user.get_multi(db)]\n"
   ]
  },
  {
   "cell_type": "code",
   "execution_count": 6,
   "id": "chubby-model",
   "metadata": {},
   "outputs": [
    {
     "data": {
      "text/plain": [
       "['scharbatke, jan',\n",
       " 'esme, ersin',\n",
       " 'schmidt, katharina',\n",
       " 'neuendorf, nico',\n",
       " 'cara, endri',\n",
       " 'maiberg, melissa',\n",
       " 'linux, administrator']"
      ]
     },
     "execution_count": 6,
     "metadata": {},
     "output_type": "execute_result"
    }
   ],
   "source": [
    "USER_LIST"
   ]
  },
  {
   "cell_type": "code",
   "execution_count": null,
   "id": "interested-stability",
   "metadata": {},
   "outputs": [],
   "source": []
  }
 ],
 "metadata": {
  "kernelspec": {
   "display_name": "Python 3",
   "language": "python",
   "name": "python3"
  },
  "language_info": {
   "codemirror_mode": {
    "name": "ipython",
    "version": 3
   },
   "file_extension": ".py",
   "mimetype": "text/x-python",
   "name": "python",
   "nbconvert_exporter": "python",
   "pygments_lexer": "ipython3",
   "version": "3.7.7"
  }
 },
 "nbformat": 4,
 "nbformat_minor": 5
}
