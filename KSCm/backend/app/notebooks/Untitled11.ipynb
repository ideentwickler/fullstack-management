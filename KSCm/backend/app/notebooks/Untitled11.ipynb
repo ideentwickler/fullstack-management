{
 "cells": [
  {
   "cell_type": "code",
   "execution_count": 22,
   "id": "arbitrary-czech",
   "metadata": {},
   "outputs": [],
   "source": [
    "from datetime import datetime\n",
    "from app import crud, models, schemas\n",
    "from app.db.session import SessionLocal\n",
    "from sqlalchemy.orm import Session\n",
    "from sqlalchemy.sql import func\n",
    "from app.services.controlling import ControllingCalendar\n",
    "\n",
    "db = SessionLocal()\n",
    "calendar = ControllingCalendar(year=2020, monthrange=[7,12]).get()\n",
    "start = calendar['range']['start']\n",
    "end = calendar['range']['end']\n",
    "\n",
    "def get_clean_discharge(\n",
    "        _db: Session = db, *, start: datetime = None, end: datetime = None,\n",
    "        store_internal_id: int = None, owner_id: int = None\n",
    ") -> float:\n",
    "    \"\"\"\n",
    "    TO AVOID MULTIPLE COUNTED DISCHARGES\n",
    "    WE ONLY ACCEPT ONE DISCHARGE PER CONTRACT\n",
    "    MEANS WE VE TO EXCLUDE ALL OTHER ROWS WITH THE SAME CONTRACT NR\n",
    "    \"\"\"\n",
    "    exclude_contracts: t.List[int] = []\n",
    "    discharges: t.List[float] = []\n",
    "    #  FOR BETTER SQL PERFORMANCE WE ENCLOSE OUR QUERY: EXCLUDE ALL WITH DISCHARGE IS NULL;\n",
    "    claims = crud.claim.get_query(_db)\n",
    "    if start and end:\n",
    "        claims = claims.filter(models.Claim.created_at.between(start, end))  # noqa\n",
    "    if store_internal_id:\n",
    "        claims = claims.filter(models.Claim.store_internal_id == store_internal_id)  # noqa\n",
    "    if owner_id:\n",
    "        claims = claims.filter(models.Claim.owner_id == owner_id)  # noqa\n",
    "    claims = claims.filter(models.Claim.discharge.isnot(None))  # noqa\n",
    "    claims: t.List[models.Claim] = claims.all()  # noqa\n",
    "\n",
    "    for claim in claims:\n",
    "        if claim.contract_nr not in exclude_contracts:\n",
    "            exclude_contracts.append(claim.contract_nr)\n",
    "            discharges.append(claim.discharge)\n",
    "    total_discharges: float = sum(discharges)\n",
    "    total_discharges_round: float = round(total_discharges, 2)\n",
    "    return total_discharges_round"
   ]
  },
  {
   "cell_type": "code",
   "execution_count": 36,
   "id": "auburn-arrest",
   "metadata": {},
   "outputs": [],
   "source": [
    "def get_average_claim_bill(\n",
    "        _db: Session = db, *, start: datetime = None, end: datetime = None,\n",
    "        store_internal_id: int = None, owner_id: int = None\n",
    "):\n",
    "    query = crud.claim.get_query(_db)\n",
    "    if start and end:\n",
    "        query = query.filter(models.Claim.created_at.between(start, end))\n",
    "    if store_internal_id:\n",
    "        query = query.filter(models.Claim.store_internal_id == store_internal_id)\n",
    "    if owner_id:\n",
    "        query = query.filter(models.Claim.owner_id == owner_id)\n",
    "    bill = query.with_entities(func.avg(models.Claim.bill).label(\"_bill\")).first()\n",
    "    bill_round = round(bill[0], 2)\n",
    "    \n",
    "    return bill_round"
   ]
  },
  {
   "cell_type": "code",
   "execution_count": 45,
   "id": "monetary-crazy",
   "metadata": {},
   "outputs": [],
   "source": [
    "x = get_average_claim_bill(start=start, end=end, store_internal_id=188)"
   ]
  },
  {
   "cell_type": "code",
   "execution_count": 46,
   "id": "ranking-administration",
   "metadata": {},
   "outputs": [],
   "source": [
    "y = get_clean_discharge(start=start, end=end, store_internal_id=188)"
   ]
  },
  {
   "cell_type": "code",
   "execution_count": 47,
   "id": "consolidated-ordinance",
   "metadata": {},
   "outputs": [
    {
     "data": {
      "text/plain": [
       "-5956.37"
      ]
     },
     "execution_count": 47,
     "metadata": {},
     "output_type": "execute_result"
    }
   ],
   "source": []
  },
  {
   "cell_type": "code",
   "execution_count": null,
   "id": "overhead-neighborhood",
   "metadata": {},
   "outputs": [],
   "source": []
  }
 ],
 "metadata": {
  "kernelspec": {
   "display_name": "Python 3",
   "language": "python",
   "name": "python3"
  },
  "language_info": {
   "codemirror_mode": {
    "name": "ipython",
    "version": 3
   },
   "file_extension": ".py",
   "mimetype": "text/x-python",
   "name": "python",
   "nbconvert_exporter": "python",
   "pygments_lexer": "ipython3",
   "version": "3.7.7"
  }
 },
 "nbformat": 4,
 "nbformat_minor": 5
}
