{
 "cells": [
  {
   "cell_type": "code",
   "execution_count": 5,
   "id": "unusual-touch",
   "metadata": {},
   "outputs": [],
   "source": [
    "from app import crud, models, schemas\n",
    "from sqlalchemy.sql import func\n",
    "from app.services.controlling import ControllingCalendar"
   ]
  },
  {
   "cell_type": "code",
   "execution_count": 6,
   "id": "sweet-classification",
   "metadata": {},
   "outputs": [
    {
     "ename": "NameError",
     "evalue": "name 'db' is not defined",
     "output_type": "error",
     "traceback": [
      "\u001b[0;31m---------------------------------------------------------------------------\u001b[0m",
      "\u001b[0;31mNameError\u001b[0m                                 Traceback (most recent call last)",
      "\u001b[0;32m<ipython-input-6-4df71c196606>\u001b[0m in \u001b[0;36m<module>\u001b[0;34m\u001b[0m\n\u001b[0;32m----> 1\u001b[0;31m \u001b[0mwithout_discharge\u001b[0m \u001b[0;34m=\u001b[0m \u001b[0mcrud\u001b[0m\u001b[0;34m.\u001b[0m\u001b[0mclaim\u001b[0m\u001b[0;34m.\u001b[0m\u001b[0mget_query\u001b[0m\u001b[0;34m(\u001b[0m\u001b[0mdb\u001b[0m\u001b[0;34m)\u001b[0m\u001b[0;34m.\u001b[0m\u001b[0mfilter\u001b[0m\u001b[0;34m(\u001b[0m\u001b[0mmodels\u001b[0m\u001b[0;34m.\u001b[0m\u001b[0mClaim\u001b[0m\u001b[0;34m.\u001b[0m\u001b[0mdischarge\u001b[0m\u001b[0;34m.\u001b[0m\u001b[0mis_\u001b[0m\u001b[0;34m(\u001b[0m\u001b[0;32mNone\u001b[0m\u001b[0;34m)\u001b[0m\u001b[0;34m)\u001b[0m\u001b[0;34m\u001b[0m\u001b[0;34m\u001b[0m\u001b[0m\n\u001b[0m",
      "\u001b[0;31mNameError\u001b[0m: name 'db' is not defined"
     ]
    }
   ],
   "source": [
    "without_discharge = crud.claim.get_query(db).filter(models.Claim.discharge.is_(None))"
   ]
  },
  {
   "cell_type": "code",
   "execution_count": 7,
   "id": "subsequent-ethiopia",
   "metadata": {},
   "outputs": [],
   "source": [
    "from app.db.session import SessionLocal"
   ]
  },
  {
   "cell_type": "code",
   "execution_count": 8,
   "id": "compound-field",
   "metadata": {},
   "outputs": [],
   "source": [
    "db = SessionLocal()"
   ]
  },
  {
   "cell_type": "code",
   "execution_count": null,
   "id": "irish-martin",
   "metadata": {},
   "outputs": [],
   "source": [
    "fn = without_discharge.filter(models.Claim.store_internal_id==205)"
   ]
  },
  {
   "cell_type": "code",
   "execution_count": 9,
   "id": "compound-alexandria",
   "metadata": {},
   "outputs": [],
   "source": [
    "calendar = ControllingCalendar(year=2020, monthrange=[1,12]).get()\n",
    "start = calendar['range']['start']\n",
    "end = calendar['range']['end']"
   ]
  },
  {
   "cell_type": "code",
   "execution_count": null,
   "id": "earned-temple",
   "metadata": {},
   "outputs": [],
   "source": [
    "fried = crud.store.get_by_kwargs(db, internal_id=205).first()"
   ]
  },
  {
   "cell_type": "code",
   "execution_count": null,
   "id": "aboriginal-retail",
   "metadata": {},
   "outputs": [],
   "source": [
    "fried.claims.filter(models.Claim.discharge.is_(None)).with_entities(func.sum(models.Claim.bill).label('bill')).first()"
   ]
  },
  {
   "cell_type": "code",
   "execution_count": null,
   "id": "educational-microphone",
   "metadata": {},
   "outputs": [],
   "source": [
    "bill = fried.claims.filter(models.Claim.created_at.between(start, end)).with_entities(func.sum(models.Claim.bill).label('bill')).first()"
   ]
  },
  {
   "cell_type": "code",
   "execution_count": null,
   "id": "voluntary-norman",
   "metadata": {},
   "outputs": [],
   "source": [
    "bill"
   ]
  },
  {
   "cell_type": "code",
   "execution_count": 10,
   "id": "varying-envelope",
   "metadata": {},
   "outputs": [],
   "source": [
    "from sqlalchemy.orm import Session\n",
    "from datetime import datetime"
   ]
  },
  {
   "cell_type": "code",
   "execution_count": 11,
   "id": "martial-racing",
   "metadata": {},
   "outputs": [],
   "source": [
    "def get_clean_discharge(\n",
    "        _db: Session = db, *, start: datetime = None, end: datetime = None,\n",
    "        store_internal_id: int = None, owner_id: int = None\n",
    ") -> float:\n",
    "    \"\"\"\n",
    "    TO AVOID MULTIPLE COUNTED DISCHARGES\n",
    "    WE ONLY ACCEPT ONE DISCHARGE PER CONTRACT\n",
    "    MEANS WE VE TO EXCLUDE ALL OTHER ROWS WITH THE SAME CONTRACT NR\n",
    "    \"\"\"\n",
    "    exclude_contracts: t.List[int] = []\n",
    "    discharges: t.List[float] = []\n",
    "    #  FOR BETTER SQL PERFORMANCE WE ENCLOSE OUR QUERY: EXCLUDE ALL WITH DISCHARGE IS NULL;\n",
    "    claims = crud.claim.get_query(db)\n",
    "    if start and end:\n",
    "        claims = claims.filter(models.Claim.created_at.between(start, end))  # noqa\n",
    "    if store_internal_id:\n",
    "        claims = claims.filter(models.Claim.store_internal_id == store_internal_id)  # noqa\n",
    "    if owner_id:\n",
    "        claims = claims.filter(models.Claim.owner_id == owner_id)  # noqa  \n",
    "    claims = claims.filter(models.Claim.discharge.isnot(None))  # noqa \n",
    "    claims: t.List[models.Claim] = claims.all()  # noqa\n",
    "\n",
    "    for claim in claims:\n",
    "        if claim.contract_nr not in exclude_contracts:\n",
    "            exclude_contracts.append(claim.contract_nr)\n",
    "            discharges.append(claim.discharge)\n",
    "    total_discharges: float = sum(discharges)\n",
    "    total_discharges_round: float = round(total_discharges, 2)\n",
    "    return total_discharges_round"
   ]
  },
  {
   "cell_type": "code",
   "execution_count": 22,
   "id": "aggressive-conversion",
   "metadata": {},
   "outputs": [],
   "source": [
    "x = get_clean_discharge(start=start, end=end, store_internal_id=188, owner_id=5)"
   ]
  },
  {
   "cell_type": "code",
   "execution_count": 23,
   "id": "professional-january",
   "metadata": {},
   "outputs": [
    {
     "data": {
      "text/plain": [
       "-3679.37"
      ]
     },
     "execution_count": 23,
     "metadata": {},
     "output_type": "execute_result"
    }
   ],
   "source": [
    "x"
   ]
  },
  {
   "cell_type": "code",
   "execution_count": null,
   "id": "acceptable-necklace",
   "metadata": {},
   "outputs": [],
   "source": []
  }
 ],
 "metadata": {
  "kernelspec": {
   "display_name": "Python 3",
   "language": "python",
   "name": "python3"
  },
  "language_info": {
   "codemirror_mode": {
    "name": "ipython",
    "version": 3
   },
   "file_extension": ".py",
   "mimetype": "text/x-python",
   "name": "python",
   "nbconvert_exporter": "python",
   "pygments_lexer": "ipython3",
   "version": "3.7.7"
  }
 },
 "nbformat": 4,
 "nbformat_minor": 5
}
