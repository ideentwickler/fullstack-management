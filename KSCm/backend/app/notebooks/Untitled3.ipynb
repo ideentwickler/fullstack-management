{
 "cells": [
  {
   "cell_type": "code",
   "execution_count": 1,
   "id": "conditional-genre",
   "metadata": {},
   "outputs": [
    {
     "name": "stderr",
     "output_type": "stream",
     "text": [
      "/usr/local/lib/python3.7/site-packages/jose/backends/cryptography_backend.py:18: CryptographyDeprecationWarning: int_from_bytes is deprecated, use int.from_bytes instead\n",
      "  from cryptography.utils import int_from_bytes, int_to_bytes\n"
     ]
    }
   ],
   "source": [
    "import time\n",
    "import typing as t\n",
    "from openpyxl import load_workbook\n",
    "from datetime import datetime\n",
    "from pydantic import BaseModel\n",
    "\n",
    "from app.core.config import settings\n",
    "from app.db.session import SessionLocal\n",
    "from app import crud, models, schemas\n",
    "db = SessionLocal()"
   ]
  },
  {
   "cell_type": "code",
   "execution_count": 2,
   "id": "introductory-macro",
   "metadata": {},
   "outputs": [],
   "source": [
    "def get_file(file=\"reklaliste.xlsx\") -> load_workbook:\n",
    "    wb_file = load_workbook(str(settings.SERVER_BASE_DIR) + '/' + file)\n",
    "    i = 0\n",
    "    for sheet in wb_file.sheetnames:\n",
    "        i += 1\n",
    "        if sheet.lower() == \"liste wertreklas\":\n",
    "            break\n",
    "        wb_file.active = i\n",
    "    return wb_file.active\n",
    "\n",
    "def create_claim(*, data: t.List) -> t.Union[schemas.claim.ClaimBase, None]:\n",
    "    claim_in = schemas.claim.ClaimBase()\n",
    "    if isinstance(data[1], float):\n",
    "        contract_nr = str(data[1]).split(\".0\")[0]\n",
    "        claim_in.contract_nr = int(contract_nr)\n",
    "\n",
    "    if isinstance(data[2], float) or isinstance(data[2], int):\n",
    "        claim_in.discharge = float(data[2])\n",
    "\n",
    "    if isinstance(data[3], float) or isinstance(data[3], int):\n",
    "        claim_in.bill = float(data[3])\n",
    "\n",
    "    if isinstance(data[7], datetime):\n",
    "        claim_in.created_at = datetime.date(data[7])\n",
    "\n",
    "    if isinstance(data[11], str):\n",
    "        kind = data[11].strip().upper()\n",
    "        try:\n",
    "            claim_in.kind = models.ClaimKind(kind).name\n",
    "        except ValueError:\n",
    "            claim_in.kind = None    \n",
    "\n",
    "    if claim_in.contract_nr is not None and claim_in.bill is not None and claim_in.created_at is not None:\n",
    "        return claim_in\n",
    "    return None"
   ]
  },
  {
   "cell_type": "code",
   "execution_count": 3,
   "id": "suitable-wealth",
   "metadata": {},
   "outputs": [],
   "source": [
    "%load_ext autoreload\n",
    "%autoreload 2"
   ]
  },
  {
   "cell_type": "code",
   "execution_count": 4,
   "id": "marine-chest",
   "metadata": {},
   "outputs": [
    {
     "name": "stderr",
     "output_type": "stream",
     "text": [
      "/usr/local/lib/python3.7/site-packages/openpyxl/styles/stylesheet.py:214: UserWarning: Workbook contains no default style, apply openpyxl's default\n",
      "  warn(\"Workbook contains no default style, apply openpyxl's default\")\n"
     ]
    }
   ],
   "source": [
    "claims_file = get_file()\n",
    "def fetch_claim_data(row: t.List) -> t.List:\n",
    "    data = []\n",
    "    for cell in row:\n",
    "        data.append(cell)\n",
    "    claim_obj = create_claim(data=data)\n",
    "    return claim_obj"
   ]
  },
  {
   "cell_type": "code",
   "execution_count": 5,
   "id": "advanced-reality",
   "metadata": {},
   "outputs": [],
   "source": [
    "def iter_claim_rows(file: load_workbook) -> t.Callable:\n",
    "    i = 0\n",
    "    for row in file.iter_rows(values_only=True, max_col=15):\n",
    "        i += 1\n",
    "        if i % 1000 == 0:\n",
    "            print(\"...calma 5 seconds!\")\n",
    "            time.sleep(5)\n",
    "        echo = fetch_claim_data(row)\n",
    "        if echo is not None:\n",
    "            yield echo"
   ]
  },
  {
   "cell_type": "code",
   "execution_count": 16,
   "id": "australian-weight",
   "metadata": {},
   "outputs": [],
   "source": [
    "rows = iter_claim_rows(file=claims_file)"
   ]
  },
  {
   "cell_type": "code",
   "execution_count": null,
   "id": "supreme-flower",
   "metadata": {},
   "outputs": [],
   "source": []
  }
 ],
 "metadata": {
  "kernelspec": {
   "display_name": "Python 3",
   "language": "python",
   "name": "python3"
  },
  "language_info": {
   "codemirror_mode": {
    "name": "ipython",
    "version": 3
   },
   "file_extension": ".py",
   "mimetype": "text/x-python",
   "name": "python",
   "nbconvert_exporter": "python",
   "pygments_lexer": "ipython3",
   "version": "3.7.7"
  }
 },
 "nbformat": 4,
 "nbformat_minor": 5
}
