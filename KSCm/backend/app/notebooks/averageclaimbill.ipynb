{
 "cells": [
  {
   "cell_type": "code",
   "execution_count": 9,
   "id": "composite-spanish",
   "metadata": {},
   "outputs": [],
   "source": [
    "from app import services, models, crud, schemas\n",
    "\n",
    "calendar = services.ControllingCalendar(year=2020).get()\n",
    "start = calendar['range']['start']\n",
    "end = calendar['range']['end']"
   ]
  },
  {
   "cell_type": "code",
   "execution_count": 38,
   "id": "absent-dallas",
   "metadata": {},
   "outputs": [],
   "source": [
    "com = services.get_tickets_count(start=start, end=end, owner_id=5, kind=models.TicketKind.COMMISSION)"
   ]
  },
  {
   "cell_type": "code",
   "execution_count": 39,
   "id": "ranking-joshua",
   "metadata": {},
   "outputs": [],
   "source": [
    "x = services.get_claim_bill(start=start, end=end, owner_id=5, calculation=\"sum\")"
   ]
  },
  {
   "cell_type": "code",
   "execution_count": 40,
   "id": "meaning-philippines",
   "metadata": {},
   "outputs": [],
   "source": [
    "y = services.get_clean_discharge(start=start, end=end, owner_id=5)"
   ]
  },
  {
   "cell_type": "code",
   "execution_count": 41,
   "id": "popular-auditor",
   "metadata": {},
   "outputs": [
    {
     "data": {
      "text/plain": [
       "19261.55"
      ]
     },
     "execution_count": 41,
     "metadata": {},
     "output_type": "execute_result"
    }
   ],
   "source": [
    "y + x"
   ]
  },
  {
   "cell_type": "code",
   "execution_count": 42,
   "id": "religious-pacific",
   "metadata": {},
   "outputs": [
    {
     "data": {
      "text/plain": [
       "19261.55"
      ]
     },
     "execution_count": 42,
     "metadata": {},
     "output_type": "execute_result"
    }
   ],
   "source": [
    "x + y"
   ]
  },
  {
   "cell_type": "code",
   "execution_count": 43,
   "id": "constitutional-avenue",
   "metadata": {},
   "outputs": [
    {
     "data": {
      "text/plain": [
       "11.095362903225807"
      ]
     },
     "execution_count": 43,
     "metadata": {},
     "output_type": "execute_result"
    }
   ],
   "source": [
    "(x+y) / com"
   ]
  },
  {
   "cell_type": "code",
   "execution_count": 44,
   "id": "rising-category",
   "metadata": {},
   "outputs": [],
   "source": [
    "claim_avg = services.get_claim_bill(start=start, end=end, owner_id=5, calculation=\"count\")"
   ]
  },
  {
   "cell_type": "code",
   "execution_count": 45,
   "id": "monetary-parliament",
   "metadata": {},
   "outputs": [
    {
     "data": {
      "text/plain": [
       "276"
      ]
     },
     "execution_count": 45,
     "metadata": {},
     "output_type": "execute_result"
    }
   ],
   "source": [
    "claim_avg"
   ]
  },
  {
   "cell_type": "code",
   "execution_count": null,
   "id": "pleasant-drive",
   "metadata": {},
   "outputs": [],
   "source": []
  }
 ],
 "metadata": {
  "kernelspec": {
   "display_name": "Python 3",
   "language": "python",
   "name": "python3"
  },
  "language_info": {
   "codemirror_mode": {
    "name": "ipython",
    "version": 3
   },
   "file_extension": ".py",
   "mimetype": "text/x-python",
   "name": "python",
   "nbconvert_exporter": "python",
   "pygments_lexer": "ipython3",
   "version": "3.7.7"
  }
 },
 "nbformat": 4,
 "nbformat_minor": 5
}
