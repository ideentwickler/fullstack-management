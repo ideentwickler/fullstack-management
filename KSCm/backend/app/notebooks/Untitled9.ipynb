{
 "cells": [
  {
   "cell_type": "code",
   "execution_count": 1,
   "id": "searching-bridges",
   "metadata": {},
   "outputs": [
    {
     "name": "stderr",
     "output_type": "stream",
     "text": [
      "/usr/local/lib/python3.7/site-packages/jose/backends/cryptography_backend.py:18: CryptographyDeprecationWarning: int_from_bytes is deprecated, use int.from_bytes instead\n",
      "  from cryptography.utils import int_from_bytes, int_to_bytes\n"
     ]
    }
   ],
   "source": [
    "import time\n",
    "import typing as t\n",
    "\n",
    "from openpyxl import load_workbook\n",
    "from datetime import datetime\n",
    "from sqlalchemy.sql import func\n",
    "from sqlalchemy.orm import Session\n",
    "\n",
    "from app.core.config import settings\n",
    "from app.db.session import SessionLocal\n",
    "\n",
    "from app import crud, models, schemas\n",
    "\n",
    "db = SessionLocal()"
   ]
  },
  {
   "cell_type": "code",
   "execution_count": 2,
   "id": "driven-paint",
   "metadata": {},
   "outputs": [],
   "source": [
    "def get_file(file=\"reklaliste.xlsx\") -> load_workbook:\n",
    "    wb_file = load_workbook(str(settings.SERVER_BASE_DIR) + '/' + file)\n",
    "    i = 0\n",
    "    for sheet in wb_file.sheetnames:\n",
    "        i += 1\n",
    "        if sheet.lower() == \"liste wertreklas\":\n",
    "            break\n",
    "        wb_file.active = i\n",
    "    return wb_file.active"
   ]
  },
  {
   "cell_type": "code",
   "execution_count": 14,
   "id": "stuffed-metadata",
   "metadata": {},
   "outputs": [],
   "source": [
    "def fetch_claim_data(row: t.List) -> t.List:\n",
    "    data = []\n",
    "    for cell in row:\n",
    "        data.append(cell)\n",
    "    return data"
   ]
  },
  {
   "cell_type": "code",
   "execution_count": 13,
   "id": "proof-worth",
   "metadata": {},
   "outputs": [],
   "source": [
    "def create_claim(*, data: t.List) -> t.Union[schemas.claim.ClaimBase, None]:\n",
    "    claim_in = schemas.claim.ClaimBase()\n",
    "\n",
    "    if isinstance(data[1], float):\n",
    "        contract_nr = str(data[1]).split(\".0\")[0]\n",
    "        claim_in.contract_nr = int(contract_nr)\n",
    "    if isinstance(data[2], float) or isinstance(data[2], int):\n",
    "        claim_in.discharge = float(data[2])\n",
    "    if isinstance(data[3], float) or isinstance(data[3], int):\n",
    "        claim_in.bill = float(data[3])\n",
    "    if isinstance(data[7], datetime):\n",
    "        claim_in.created_at = datetime.date(data[7])\n",
    "    if isinstance(data[11], str):\n",
    "        claim_in.kind = data[11].upper()\n",
    "        try:\n",
    "            claim_in.kind = models.ClaimKind(claim_in.kind).name\n",
    "        except ValueError:\n",
    "            claim_in.kind = None\n",
    "\n",
    "    if claim_in.contract_nr is not None and claim_in.bill is not None and claim_in.created_at is not None:\n",
    "        return claim_in\n",
    "    return None"
   ]
  },
  {
   "cell_type": "code",
   "execution_count": 15,
   "id": "stock-animal",
   "metadata": {},
   "outputs": [],
   "source": [
    "def iter_claim_rows(file: load_workbook) -> t.List[schemas.Claim]:\n",
    "    i = 0\n",
    "    for row in file.iter_rows(values_only=True, max_col=15):\n",
    "        i += 1\n",
    "        if i  == 10:\n",
    "            break\n",
    "        data = fetch_claim_data(row)\n",
    "        echo = create_claim(data=data)\n",
    "        if echo is not None:\n",
    "            yield echo"
   ]
  },
  {
   "cell_type": "code",
   "execution_count": 16,
   "id": "beneficial-danish",
   "metadata": {},
   "outputs": [
    {
     "name": "stderr",
     "output_type": "stream",
     "text": [
      "/usr/local/lib/python3.7/site-packages/openpyxl/styles/stylesheet.py:214: UserWarning: Workbook contains no default style, apply openpyxl's default\n",
      "  warn(\"Workbook contains no default style, apply openpyxl's default\")\n"
     ]
    }
   ],
   "source": [
    "rows = iter_claim_rows(file=get_file())"
   ]
  },
  {
   "cell_type": "code",
   "execution_count": 17,
   "id": "explicit-congo",
   "metadata": {},
   "outputs": [
    {
     "name": "stdout",
     "output_type": "stream",
     "text": [
      "contract_nr=1023309 bill=69.97 discharge=None kind='SUPPLIER' ticket_id=None owner_id=None store_internal_id=None created_at=datetime.date(2020, 1, 2)\n",
      "contract_nr=1068349 bill=97.62 discharge=-120.8 kind='ASSEMBLER' ticket_id=None owner_id=None store_internal_id=None created_at=datetime.date(2020, 1, 2)\n",
      "contract_nr=1099803 bill=93.78 discharge=-1142.74 kind='ASSEMBLER' ticket_id=None owner_id=None store_internal_id=None created_at=datetime.date(2020, 1, 2)\n",
      "contract_nr=1174687 bill=342.36 discharge=None kind='SELLER' ticket_id=None owner_id=None store_internal_id=None created_at=datetime.date(2020, 1, 2)\n",
      "contract_nr=1174687 bill=38.03 discharge=None kind='SELLER' ticket_id=None owner_id=None store_internal_id=None created_at=datetime.date(2020, 1, 2)\n",
      "contract_nr=1264886 bill=9.17 discharge=None kind='CUSTOMER' ticket_id=None owner_id=None store_internal_id=None created_at=datetime.date(2020, 1, 2)\n",
      "contract_nr=1302405 bill=44.07 discharge=None kind='SUPPLIER' ticket_id=None owner_id=None store_internal_id=None created_at=datetime.date(2020, 1, 2)\n"
     ]
    }
   ],
   "source": [
    "for row in rows:\n",
    "    print(row)"
   ]
  },
  {
   "cell_type": "code",
   "execution_count": null,
   "id": "interstate-native",
   "metadata": {},
   "outputs": [],
   "source": []
  }
 ],
 "metadata": {
  "kernelspec": {
   "display_name": "Python 3",
   "language": "python",
   "name": "python3"
  },
  "language_info": {
   "codemirror_mode": {
    "name": "ipython",
    "version": 3
   },
   "file_extension": ".py",
   "mimetype": "text/x-python",
   "name": "python",
   "nbconvert_exporter": "python",
   "pygments_lexer": "ipython3",
   "version": "3.7.7"
  }
 },
 "nbformat": 4,
 "nbformat_minor": 5
}
