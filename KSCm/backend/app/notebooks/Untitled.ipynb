{
 "cells": [
  {
   "cell_type": "code",
   "execution_count": 1,
   "id": "unexpected-maximum",
   "metadata": {},
   "outputs": [
    {
     "name": "stderr",
     "output_type": "stream",
     "text": [
      "/usr/local/lib/python3.7/site-packages/jose/backends/cryptography_backend.py:18: CryptographyDeprecationWarning: int_from_bytes is deprecated, use int.from_bytes instead\n",
      "  from cryptography.utils import int_from_bytes, int_to_bytes\n"
     ]
    }
   ],
   "source": [
    "import os\n",
    "import logging\n",
    "import emails\n",
    "\n",
    "from datetime import datetime, timedelta\n",
    "from pathlib import Path\n",
    "from typing import Any, Dict, Optional\n",
    "\n",
    "from emails.template import JinjaTemplate\n",
    "from jose import jwt\n",
    "\n",
    "from app.tests.utils.user import random_lower_string\n",
    "from app.core.config import settings\n",
    "\n",
    "\n",
    "def file_exist_in_media_dir(filename: str) -> bool:\n",
    "    exist_in_media_dir = os.path.exists(\n",
    "        f'{str(settings.SERVER_BASE_DIR)}/'\n",
    "        + f'{str(settings.SERVER_MEDIA_DIR)}/'\n",
    "        + f'{filename}'\n",
    "    )\n",
    "    return exist_in_media_dir\n",
    "\n",
    "\n",
    "def generate_fixed_filename(filename: str) -> str:\n",
    "    unfixed = False\n",
    "    while not unfixed:\n",
    "        random_string = random_lower_string()[0:5]\n",
    "        filename = f\"{random_string}-{filename}\"\n",
    "        if not file_exist_in_media_dir(filename):\n",
    "            unfixed = True\n",
    "    return filename"
   ]
  },
  {
   "cell_type": "code",
   "execution_count": 10,
   "id": "bound-teacher",
   "metadata": {},
   "outputs": [],
   "source": [
    "filename_str = \"REPORT 10-2020.pdf\"\n",
    "my_path = f'{str(settings.SERVER_BASE_DIR)}/' + f'{str(settings.SERVER_MEDIA_DIR)}/'"
   ]
  },
  {
   "cell_type": "code",
   "execution_count": 11,
   "id": "partial-radius",
   "metadata": {},
   "outputs": [
    {
     "ename": "StopIteration",
     "evalue": "",
     "output_type": "error",
     "traceback": [
      "\u001b[0;31m---------------------------------------------------------------------------\u001b[0m",
      "\u001b[0;31mStopIteration\u001b[0m                             Traceback (most recent call last)",
      "\u001b[0;32m<ipython-input-11-27ad1099aa59>\u001b[0m in \u001b[0;36m<module>\u001b[0;34m\u001b[0m\n\u001b[1;32m      1\u001b[0m \u001b[0;32mfrom\u001b[0m \u001b[0mos\u001b[0m \u001b[0;32mimport\u001b[0m \u001b[0mwalk\u001b[0m\u001b[0;34m\u001b[0m\u001b[0;34m\u001b[0m\u001b[0m\n\u001b[1;32m      2\u001b[0m \u001b[0;34m\u001b[0m\u001b[0m\n\u001b[0;32m----> 3\u001b[0;31m \u001b[0m_\u001b[0m\u001b[0;34m,\u001b[0m \u001b[0m_\u001b[0m\u001b[0;34m,\u001b[0m \u001b[0mfilenames\u001b[0m \u001b[0;34m=\u001b[0m \u001b[0mnext\u001b[0m\u001b[0;34m(\u001b[0m\u001b[0mwalk\u001b[0m\u001b[0;34m(\u001b[0m\u001b[0mmy_path\u001b[0m\u001b[0;34m)\u001b[0m\u001b[0;34m)\u001b[0m\u001b[0;34m\u001b[0m\u001b[0;34m\u001b[0m\u001b[0m\n\u001b[0m",
      "\u001b[0;31mStopIteration\u001b[0m: "
     ]
    }
   ],
   "source": [
    "from os import walk\n",
    "\n",
    "_, _, filenames = next(walk(my_path))"
   ]
  },
  {
   "cell_type": "code",
   "execution_count": 12,
   "id": "dominant-leonard",
   "metadata": {},
   "outputs": [
    {
     "data": {
      "text/plain": [
       "'/app/notebooks/media/'"
      ]
     },
     "execution_count": 12,
     "metadata": {},
     "output_type": "execute_result"
    }
   ],
   "source": [
    "my_path"
   ]
  },
  {
   "cell_type": "code",
   "execution_count": null,
   "id": "dirty-karen",
   "metadata": {},
   "outputs": [],
   "source": []
  }
 ],
 "metadata": {
  "kernelspec": {
   "display_name": "Python 3",
   "language": "python",
   "name": "python3"
  },
  "language_info": {
   "codemirror_mode": {
    "name": "ipython",
    "version": 3
   },
   "file_extension": ".py",
   "mimetype": "text/x-python",
   "name": "python",
   "nbconvert_exporter": "python",
   "pygments_lexer": "ipython3",
   "version": "3.7.7"
  }
 },
 "nbformat": 4,
 "nbformat_minor": 5
}
