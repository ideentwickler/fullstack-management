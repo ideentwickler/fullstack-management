{
 "cells": [
  {
   "cell_type": "code",
   "execution_count": 1,
   "id": "advance-display",
   "metadata": {},
   "outputs": [
    {
     "name": "stderr",
     "output_type": "stream",
     "text": [
      "/usr/local/lib/python3.7/site-packages/jose/backends/cryptography_backend.py:18: CryptographyDeprecationWarning: int_from_bytes is deprecated, use int.from_bytes instead\n",
      "  from cryptography.utils import int_from_bytes, int_to_bytes\n"
     ]
    }
   ],
   "source": [
    "from fastapi import APIRouter, Response\n",
    "from babel.numbers import format_number, format_decimal, format_percent\n",
    "\n",
    "from app.db.session import SessionLocal\n",
    "from app.views import deps\n",
    "from app import services, models"
   ]
  },
  {
   "cell_type": "code",
   "execution_count": 2,
   "id": "radical-tourist",
   "metadata": {},
   "outputs": [],
   "source": [
    "db = SessionLocal()"
   ]
  },
  {
   "cell_type": "code",
   "execution_count": 3,
   "id": "dated-noise",
   "metadata": {},
   "outputs": [],
   "source": [
    "calendar = services.ControllingCalendar(year=2020).get()"
   ]
  },
  {
   "cell_type": "code",
   "execution_count": 4,
   "id": "amended-border",
   "metadata": {},
   "outputs": [
    {
     "ename": "AttributeError",
     "evalue": "'dict' object has no attribute 'data'",
     "output_type": "error",
     "traceback": [
      "\u001b[0;31m---------------------------------------------------------------------------\u001b[0m",
      "\u001b[0;31mAttributeError\u001b[0m                            Traceback (most recent call last)",
      "\u001b[0;32m<ipython-input-4-20d28acd5f73>\u001b[0m in \u001b[0;36m<module>\u001b[0;34m\u001b[0m\n\u001b[0;32m----> 1\u001b[0;31m \u001b[0mcalendar\u001b[0m\u001b[0;34m.\u001b[0m\u001b[0mdata\u001b[0m\u001b[0;34m\u001b[0m\u001b[0;34m\u001b[0m\u001b[0m\n\u001b[0m",
      "\u001b[0;31mAttributeError\u001b[0m: 'dict' object has no attribute 'data'"
     ]
    }
   ],
   "source": [
    "calendar.data"
   ]
  },
  {
   "cell_type": "code",
   "execution_count": 11,
   "id": "behavioral-detail",
   "metadata": {},
   "outputs": [],
   "source": [
    "months_label_list = [month for month in calendar.keys()]\n",
    "months_commission_count = []\n",
    "months_claims_count = []"
   ]
  },
  {
   "cell_type": "code",
   "execution_count": 12,
   "id": "prostate-portfolio",
   "metadata": {},
   "outputs": [],
   "source": [
    "    for month in months_label_list:\n",
    "        start, end = calendar[month]['start'], calendar[month]['end']\n",
    "        month_commission_count = services.get_tickets_count(db, start=start, end=end, kind=models.TicketKind.COMMISSION)\n",
    "        months_commission_count.append(month_commission_count)\n",
    "        month_claims_count = services.get_tickets_count(db, start=start, end=end, kind=models.TicketKind.CLAIM)\n",
    "        months_claims_count.append(month_claims_count)"
   ]
  },
  {
   "cell_type": "code",
   "execution_count": 13,
   "id": "forty-makeup",
   "metadata": {},
   "outputs": [
    {
     "data": {
      "text/plain": [
       "[337, 431, 251, 39, 548, 529, 480, 429, 590, 658, 565, 245, 5102]"
      ]
     },
     "execution_count": 13,
     "metadata": {},
     "output_type": "execute_result"
    }
   ],
   "source": [
    "months_commission_count"
   ]
  },
  {
   "cell_type": "code",
   "execution_count": 14,
   "id": "occupied-porter",
   "metadata": {},
   "outputs": [
    {
     "data": {
      "text/plain": [
       "[35, 57, 67, 84, 81, 81, 65, 67, 103, 119, 113, 50, 922]"
      ]
     },
     "execution_count": 14,
     "metadata": {},
     "output_type": "execute_result"
    }
   ],
   "source": [
    "months_claims_count"
   ]
  },
  {
   "cell_type": "code",
   "execution_count": 24,
   "id": "unsigned-georgia",
   "metadata": {},
   "outputs": [],
   "source": [
    "months_total_zip = zip(months_commission_count, months_claims_count)"
   ]
  },
  {
   "cell_type": "code",
   "execution_count": 26,
   "id": "fuzzy-miller",
   "metadata": {},
   "outputs": [],
   "source": [
    "months_sum = [x + y for (x, y) in months_total_zip]"
   ]
  },
  {
   "cell_type": "code",
   "execution_count": 27,
   "id": "precious-ideal",
   "metadata": {},
   "outputs": [
    {
     "ename": "TypeError",
     "evalue": "'list' object is not callable",
     "output_type": "error",
     "traceback": [
      "\u001b[0;31m---------------------------------------------------------------------------\u001b[0m",
      "\u001b[0;31mTypeError\u001b[0m                                 Traceback (most recent call last)",
      "\u001b[0;32m<ipython-input-27-f79e092ed9ff>\u001b[0m in \u001b[0;36m<module>\u001b[0;34m\u001b[0m\n\u001b[0;32m----> 1\u001b[0;31m \u001b[0mtotal_sum\u001b[0m \u001b[0;34m=\u001b[0m \u001b[0msum\u001b[0m\u001b[0;34m(\u001b[0m\u001b[0mmonths_sum\u001b[0m\u001b[0;34m)\u001b[0m\u001b[0;34m\u001b[0m\u001b[0;34m\u001b[0m\u001b[0m\n\u001b[0m",
      "\u001b[0;31mTypeError\u001b[0m: 'list' object is not callable"
     ]
    }
   ],
   "source": [
    "total_sum = sum(months_sum)"
   ]
  },
  {
   "cell_type": "code",
   "execution_count": 28,
   "id": "drawn-wednesday",
   "metadata": {},
   "outputs": [
    {
     "data": {
      "text/plain": [
       "13"
      ]
     },
     "execution_count": 28,
     "metadata": {},
     "output_type": "execute_result"
    }
   ],
   "source": [
    "len(months_label_list)"
   ]
  },
  {
   "cell_type": "code",
   "execution_count": null,
   "id": "protecting-bunch",
   "metadata": {},
   "outputs": [],
   "source": []
  }
 ],
 "metadata": {
  "kernelspec": {
   "display_name": "Python 3",
   "language": "python",
   "name": "python3"
  },
  "language_info": {
   "codemirror_mode": {
    "name": "ipython",
    "version": 3
   },
   "file_extension": ".py",
   "mimetype": "text/x-python",
   "name": "python",
   "nbconvert_exporter": "python",
   "pygments_lexer": "ipython3",
   "version": "3.7.7"
  }
 },
 "nbformat": 4,
 "nbformat_minor": 5
}
