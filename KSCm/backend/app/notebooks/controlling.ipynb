{
 "cells": [
  {
   "cell_type": "code",
   "execution_count": 5,
   "id": "clean-mentor",
   "metadata": {},
   "outputs": [
    {
     "name": "stderr",
     "output_type": "stream",
     "text": [
      "/usr/local/lib/python3.7/site-packages/jose/backends/cryptography_backend.py:18: CryptographyDeprecationWarning: int_from_bytes is deprecated, use int.from_bytes instead\n",
      "  from cryptography.utils import int_from_bytes, int_to_bytes\n"
     ]
    }
   ],
   "source": [
    "import typing as t\n",
    "from app import crud, models, services, schemas\n",
    "from app.db.session import SessionLocal\n",
    "from babel.numbers import format_number\n",
    "from pydantic import BaseModel\n",
    "db = SessionLocal()"
   ]
  },
  {
   "cell_type": "code",
   "execution_count": 6,
   "id": "terminal-folks",
   "metadata": {},
   "outputs": [],
   "source": [
    "class FirstPageContext(BaseModel):\n",
    "    headline: t.Optional[str] = None\n",
    "    months: t.Optional[t.List[str]] = []\n",
    "    counts: t.Optional[t.Dict[str, t.List[int]]] = {}\n",
    "    processing: t.Optional[t.Dict[str, t.List[int]]] = {}\n",
    "    bills: t.Optional[t.Dict[str, t.Any]] = {}\n",
    "    benchmarks: t.Optional[t.Dict[str, t.Any]] = {}"
   ]
  },
  {
   "cell_type": "code",
   "execution_count": 7,
   "id": "colonial-warner",
   "metadata": {},
   "outputs": [],
   "source": [
    "class ControllingData(services.ControllingCalendar):\n",
    "    def __init__(\n",
    "            self, year: int = None, monthrange: t.List = None,\n",
    "            store_internal_id: int = None, owner_id: int = None\n",
    "    ) -> None:\n",
    "        super().__init__(year=year, monthrange=monthrange)\n",
    "        self.months_labels = [month for month in self.data.keys() if (month != 'range')]\n",
    "        self.start = self.data['range']['start']\n",
    "        self.end = self.data['range']['end']\n",
    "        self.store_internal_id = store_internal_id\n",
    "        self.owner_id = owner_id\n",
    "        self.context: FirstPageContext = FirstPageContext()\n",
    "\n",
    "    def get_ticket_count_per_kind_and_month(self) -> None:\n",
    "        for kind in models.TicketKind:\n",
    "            count_per_month = []\n",
    "            for m in self.months_labels:\n",
    "                ticket_count = services.get_tickets_count(\n",
    "                    db,\n",
    "                    start=self.data[m]['start'],\n",
    "                    end=self.data[m]['end'],\n",
    "                    kind=kind,\n",
    "                    store_internal_id=self.store_internal_id,\n",
    "                    owner_id=self.owner_id,\n",
    "                )\n",
    "                count_per_month.append(ticket_count)\n",
    "            self.context.counts[kind.name] = count_per_month\n",
    "        self.context.counts['TOTAL'] = [\n",
    "            x + y for (x, y) in zip(\n",
    "                self.context.counts[models.TicketKind.COMMISSION.name],\n",
    "                self.context.counts[models.TicketKind.CLAIM.name])\n",
    "        ]    \n",
    "        return\n",
    "\n",
    "    def get_ticket_count_per_status_process(self) -> None:\n",
    "        for process in models.TicketStatus:\n",
    "            count_per_process = []\n",
    "            for m in self.months_labels:\n",
    "                ticket_count = services.get_tickets_count(\n",
    "                    db,\n",
    "                    start=self.data[m]['start'],\n",
    "                    end=self.data[m]['end'],\n",
    "                    status=process,\n",
    "                    store_internal_id=self.store_internal_id,\n",
    "                    owner_id=self.owner_id,\n",
    "                )\n",
    "                count_per_process.append(ticket_count)\n",
    "            self.context.processing[process.name] = count_per_process\n",
    "        return\n",
    "\n",
    "    @staticmethod\n",
    "    def get_local_format(float_sum: t.Union[float, int], round_int: int = 0) -> str:\n",
    "        rounded_sum = round(float_sum, round_int)\n",
    "        local_sum = format_number(rounded_sum, locale='de_DE')\n",
    "        return local_sum\n",
    "\n",
    "    def get_clean_claim_bill(self) -> None:\n",
    "        claim_bill_sum = services.get_claim_bill(\n",
    "            db,\n",
    "            start=self.start,\n",
    "            end=self.end,\n",
    "            store_internal_id=self.store_internal_id,\n",
    "            owner_id=self.owner_id,\n",
    "            calculation=\"sum\"\n",
    "        )\n",
    "        claim_discharge_sum = services.get_clean_discharge(\n",
    "            db,\n",
    "            start=self.start,\n",
    "            end=self.end,\n",
    "            store_internal_id=self.store_internal_id,\n",
    "            owner_id=self.owner_id,\n",
    "        )\n",
    "        clean_bill = claim_discharge_sum + claim_bill_sum\n",
    "        return clean_bill\n",
    "\n",
    "    def get_claim_bill_formatted(self) -> float:\n",
    "        claim_bill_sum = services.get_claim_bill(\n",
    "            db,\n",
    "            start=self.start,\n",
    "            end=self.end,\n",
    "            store_internal_id=self.store_internal_id,\n",
    "            owner_id=self.owner_id,\n",
    "            calculation=\"sum\"\n",
    "        )\n",
    "        claim_discharge_sum = services.get_clean_discharge(\n",
    "            db,\n",
    "            start=self.start,\n",
    "            end=self.end,\n",
    "            store_internal_id=self.store_internal_id,\n",
    "            owner_id=self.owner_id,\n",
    "        )\n",
    "        claim_bill_discharge_dif = claim_bill_sum - claim_discharge_sum\n",
    "        claim_count = services.get_claim_bill(\n",
    "            db,\n",
    "            start=self.start,\n",
    "            end=self.end,\n",
    "            store_internal_id=self.store_internal_id,\n",
    "            owner_id=self.owner_id,\n",
    "            calculation=\"count\"\n",
    "        )\n",
    "        self.context.bills.update({\n",
    "            'count': claim_count,\n",
    "            'bill': self.get_local_format(claim_bill_sum),\n",
    "            'discharge': self.get_local_format(claim_discharge_sum),\n",
    "            'total': self.get_local_format(claim_bill_discharge_dif),\n",
    "        })\n",
    "        return claim_bill_discharge_dif\n",
    "\n",
    "    def get_benchmarks(self) -> None:\n",
    "        claim_average = services.get_claim_bill(\n",
    "            db,\n",
    "            start=self.start,\n",
    "            end=self.end,\n",
    "            store_internal_id=self.store_internal_id,\n",
    "            owner_id=self.owner_id,\n",
    "            calculation=\"avg\",\n",
    "        )\n",
    "        claim_average_format = self.get_local_format(claim_average, 2)\n",
    "        ticket_count = sum(self.context.counts[models.TicketKind.COMMISSION.name])\n",
    "        claim_average_per_commission = self.get_clean_claim_bill() / ticket_count\n",
    "        claim_average_per_commission_format = self.get_local_format(claim_average_per_commission, 2)\n",
    "        self.context.benchmarks.update({\n",
    "            'claim': claim_average_format,\n",
    "            'commission': claim_average_per_commission_format,\n",
    "        })\n",
    "        return\n",
    "\n",
    "    def get_context(self):\n",
    "        self.get_ticket_count_per_kind_and_month()\n",
    "        self.get_ticket_count_per_status_process()\n",
    "        self.get_claim_bill_formatted()\n",
    "        self.get_benchmarks()\n",
    "        return self.context"
   ]
  },
  {
   "cell_type": "code",
   "execution_count": 14,
   "id": "fifth-steal",
   "metadata": {},
   "outputs": [],
   "source": [
    "c = ControllingData(year=2020, owner_id=4)"
   ]
  },
  {
   "cell_type": "code",
   "execution_count": 15,
   "id": "finite-acrobat",
   "metadata": {},
   "outputs": [],
   "source": [
    "d = c.get_context()"
   ]
  },
  {
   "cell_type": "code",
   "execution_count": 16,
   "id": "native-demonstration",
   "metadata": {},
   "outputs": [
    {
     "data": {
      "text/plain": [
       "{'headline': None,\n",
       " 'months': [],\n",
       " 'counts': {'IMPORTED': [0, 0, 0, 0, 0, 0, 0, 0, 0, 0, 0, 0],\n",
       "  'COMMISSION': [139, 114, 66, 6, 121, 160, 155, 34, 230, 185, 122, 47],\n",
       "  'CLAIM': [6, 11, 17, 15, 12, 18, 20, 19, 12, 31, 8, 5],\n",
       "  'CONNECTED': [0, 0, 0, 0, 0, 0, 0, 0, 0, 0, 0, 0],\n",
       "  'INCOMPLETE': [0, 0, 0, 0, 0, 0, 0, 0, 0, 0, 0, 0],\n",
       "  'TOTAL': [145, 125, 83, 21, 133, 178, 175, 53, 242, 216, 130, 52]},\n",
       " 'processing': {'NEW': [0, 0, 0, 0, 0, 0, 0, 0, 0, 0, 0, 0],\n",
       "  'OPEN_QUESTION': [1, 0, 0, 0, 0, 0, 0, 0, 1, 6, 23, 15],\n",
       "  'ANSWERED_QUESTION': [0, 0, 0, 0, 0, 0, 0, 0, 1, 1, 8, 6],\n",
       "  'IN_PROGRESS': [5, 0, 0, 0, 1, 1, 2, 0, 4, 9, 17, 16],\n",
       "  'ORDERED': [2, 1, 2, 0, 3, 13, 7, 8, 66, 135, 73, 14],\n",
       "  'CLOSED': [137, 124, 81, 21, 129, 164, 166, 45, 170, 65, 9, 1]},\n",
       " 'bills': {'count': 271,\n",
       "  'bill': '25.167',\n",
       "  'discharge': '-6.565',\n",
       "  'total': '31.732'},\n",
       " 'benchmarks': {'claim': '92,87', 'commission': '13,49'}}"
      ]
     },
     "execution_count": 16,
     "metadata": {},
     "output_type": "execute_result"
    }
   ],
   "source": [
    "d.dict()"
   ]
  },
  {
   "cell_type": "code",
   "execution_count": 1,
   "id": "guided-repeat",
   "metadata": {},
   "outputs": [],
   "source": [
    "x = [1, 2, 3]\n",
    "y = [2, 4, 6]"
   ]
  },
  {
   "cell_type": "code",
   "execution_count": 2,
   "id": "latter-pontiac",
   "metadata": {},
   "outputs": [],
   "source": [
    "z = [x + y for (x, y) in zip(x, y)]"
   ]
  },
  {
   "cell_type": "code",
   "execution_count": 3,
   "id": "destroyed-factor",
   "metadata": {},
   "outputs": [
    {
     "data": {
      "text/plain": [
       "[3, 6, 9]"
      ]
     },
     "execution_count": 3,
     "metadata": {},
     "output_type": "execute_result"
    }
   ],
   "source": [
    "z"
   ]
  },
  {
   "cell_type": "code",
   "execution_count": null,
   "id": "atomic-server",
   "metadata": {},
   "outputs": [],
   "source": []
  }
 ],
 "metadata": {
  "kernelspec": {
   "display_name": "Python 3",
   "language": "python",
   "name": "python3"
  },
  "language_info": {
   "codemirror_mode": {
    "name": "ipython",
    "version": 3
   },
   "file_extension": ".py",
   "mimetype": "text/x-python",
   "name": "python",
   "nbconvert_exporter": "python",
   "pygments_lexer": "ipython3",
   "version": "3.7.7"
  }
 },
 "nbformat": 4,
 "nbformat_minor": 5
}
