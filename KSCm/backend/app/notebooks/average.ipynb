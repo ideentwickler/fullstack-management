{
 "cells": [
  {
   "cell_type": "code",
   "execution_count": 44,
   "id": "sporting-myrtle",
   "metadata": {},
   "outputs": [],
   "source": [
    "from datetime import datetime\n",
    "from app import crud, models, schemas\n",
    "from app.db.session import SessionLocal\n",
    "from sqlalchemy.orm import Session\n",
    "from sqlalchemy.sql import func\n",
    "from app.services.controlling import ControllingCalendar\n",
    "\n",
    "db = SessionLocal()\n",
    "calendar = ControllingCalendar(year=2020, monthrange=[10,12]).get()\n",
    "start = calendar['range']['start']\n",
    "end = calendar['range']['end']\n",
    "\n",
    "def get_clean_discharge(\n",
    "        _db: Session = db, *, start: datetime = None, end: datetime = None,\n",
    "        store_internal_id: int = None, owner_id: int = None\n",
    ") -> float:\n",
    "    \"\"\"\n",
    "    TO AVOID MULTIPLE COUNTED DISCHARGES\n",
    "    WE ONLY ACCEPT ONE DISCHARGE PER CONTRACT\n",
    "    MEANS WE VE TO EXCLUDE ALL OTHER ROWS WITH THE SAME CONTRACT NR\n",
    "    \"\"\"\n",
    "    exclude_contracts: t.List[int] = []\n",
    "    discharges: t.List[float] = []\n",
    "    total_discharges: float = 0.00    \n",
    "    #  FOR BETTER SQL PERFORMANCE WE ENCLOSE OUR QUERY: EXCLUDE ALL WITH DISCHARGE IS NULL;\n",
    "    claims = crud.claim.get_query(_db)\n",
    "    if start and end:\n",
    "        claims = claims.filter(models.Claim.created_at.between(start, end))  # noqa\n",
    "    if store_internal_id:\n",
    "        claims = claims.filter(models.Claim.store_internal_id == store_internal_id)  # noqa\n",
    "    if owner_id:\n",
    "        claims = claims.filter(models.Claim.owner_id == owner_id)  # noqa\n",
    "    claims = claims.filter(models.Claim.discharge.isnot(None))  # noqa\n",
    "    claims: t.List[models.Claim] = claims.all()  # noqa\n",
    "\n",
    "    for claim in claims:\n",
    "        if claim.contract_nr not in exclude_contracts:\n",
    "            exclude_contracts.append(claim.contract_nr)\n",
    "            discharges.append(claim.discharge)\n",
    "    total_discharges = sum(discharges) if len(discharges) != 0 else 0.00\n",
    "    total_discharges_round: float = round(total_discharges, 2) \n",
    "    return total_discharges_round"
   ]
  },
  {
   "cell_type": "code",
   "execution_count": 47,
   "id": "sporting-agenda",
   "metadata": {},
   "outputs": [],
   "source": [
    "def get_claim_bill(\n",
    "        _db: Session = db, *, start: datetime = None, end: datetime = None,\n",
    "        store_internal_id: int = None, owner_id: int = None, calculation: str = \"avg\"\n",
    "):\n",
    "    query = crud.claim.get_query(_db)\n",
    "    if start and end:\n",
    "        query = query.filter(models.Claim.created_at.between(start, end))\n",
    "    if store_internal_id:\n",
    "        query = query.filter(models.Claim.store_internal_id == store_internal_id)\n",
    "    if owner_id:\n",
    "        query = query.filter(models.Claim.owner_id == owner_id)\n",
    "    bill = query.with_entities(getattr(func, calculation)(models.Claim.bill).label(\"_bill\")).first()\n",
    "    bill_round = round(bill[0], 2) if bill[0] is not None else 0.00\n",
    "    \n",
    "    return bill_round"
   ]
  },
  {
   "cell_type": "code",
   "execution_count": 11,
   "id": "republican-dragon",
   "metadata": {},
   "outputs": [],
   "source": []
  },
  {
   "cell_type": "code",
   "execution_count": 22,
   "id": "figured-hepatitis",
   "metadata": {},
   "outputs": [],
   "source": [
    "y = get_clean_discharge(start=start, end=end, store_internal_id=188)"
   ]
  },
  {
   "cell_type": "code",
   "execution_count": 48,
   "id": "vanilla-street",
   "metadata": {},
   "outputs": [
    {
     "name": "stdout",
     "output_type": "stream",
     "text": [
      "Scharbatke\n",
      "0.0 0.0 .. total bill: 0.0\n",
      "Esme\n",
      "92.65 -718.4 .. total bill: 2038.3\n",
      "Schmidt\n",
      "91.25 -610.57 .. total bill: 6296.45\n",
      "Neuendorf\n",
      "115.15 -2125.84 .. total bill: 6794.02\n",
      "Cara\n",
      "92.43 -964.3 .. total bill: 5730.96\n",
      "Maiberg\n",
      "0.0 0.0 .. total bill: 0.0\n",
      "linux\n",
      "0.0 0.0 .. total bill: 0.0\n"
     ]
    }
   ],
   "source": [
    "for user in crud.user.get_query(db).all():\n",
    "    print(user.last_name)\n",
    "    user_average_claim_bill = get_claim_bill(start=start, end=end, owner_id=user.id)\n",
    "    user_claim_total = get_claim_bill(start=start, end=end, owner_id=user.id, calculation=\"sum\")\n",
    "    user_discharge = get_clean_discharge(start=start, end=end, owner_id=user.id)\n",
    "    print(user_average_claim_bill, user_discharge, \".. total bill:\", user_claim_total)"
   ]
  },
  {
   "cell_type": "code",
   "execution_count": 59,
   "id": "nuclear-sacramento",
   "metadata": {},
   "outputs": [
    {
     "name": "stdout",
     "output_type": "stream",
     "text": [
      "AMBERG\n",
      "99.22 0.0\n",
      "bill total... 1091.44\n",
      "tickets total... 90 ...commission 82 ...claims 8\n",
      "BÖBLINGEN\n",
      "95.54 -1527.24\n",
      "bill total... 2006.34\n",
      "tickets total... 114 ...commission 98 ...claims 16\n",
      "BONN\n",
      "105.07 0.0\n",
      "bill total... 945.63\n",
      "tickets total... 145 ...commission 132 ...claims 13\n",
      "BOTTROP\n",
      "250.51 -392.81\n",
      "bill total... 1753.58\n",
      "tickets total... 65 ...commission 47 ...claims 18\n",
      "ECHING\n",
      "127.36 0.0\n",
      "bill total... 2165.12\n",
      "tickets total... 161 ...commission 144 ...claims 17\n",
      "FRIEDRICHSHAFEN\n",
      "100.56 0.0\n",
      "bill total... 1005.65\n",
      "tickets total... 151 ...commission 111 ...claims 40\n",
      "GÖPPINGEN\n",
      "64.93 -582.98\n",
      "bill total... 2597.33\n",
      "tickets total... 181 ...commission 120 ...claims 61\n",
      "GÖRGESHAUSEN\n",
      "86.03 0.0\n",
      "bill total... 1032.39\n",
      "tickets total... 79 ...commission 68 ...claims 11\n",
      "HOMBURG\n",
      "98.88 -56.86\n",
      "bill total... 494.4\n",
      "tickets total... 87 ...commission 83 ...claims 4\n",
      "KAISERSLAUTERN\n",
      "108.72 -1565.22\n",
      "bill total... 3805.31\n",
      "tickets total... 181 ...commission 142 ...claims 39\n",
      "KOBLENZ\n",
      "34.77 0.0\n",
      "bill total... 382.52\n",
      "tickets total... 162 ...commission 152 ...claims 10\n",
      "SAARLOUIS\n",
      "88.15 0.0\n",
      "bill total... 1851.21\n",
      "tickets total... 137 ...commission 122 ...claims 15\n",
      "SINGEN\n",
      "184.99 -257.18\n",
      "bill total... 1479.88\n",
      "tickets total... 109 ...commission 99 ...claims 10\n",
      "TRUDERING\n",
      "49.79 -36.82\n",
      "bill total... 248.93\n",
      "tickets total... 63 ...commission 46 ...claims 17\n"
     ]
    }
   ],
   "source": [
    "for store in crud.store.get_query(db).order_by(models.Store.name).all():\n",
    "    store_average_claim_bill = get_claim_bill(start=start, end=end, store_internal_id=store.internal_id)\n",
    "    store_claim_total_bill = get_claim_bill(start=start, end=end, store_internal_id=store.internal_id, calculation=\"sum\")\n",
    "    store_discharge_anno = get_clean_discharge(start=start, end=end, store_internal_id=store.internal_id)\n",
    "    store_tickets_total = get_tickets_count(start=start, end=end, store_internal_id=store.internal_id)\n",
    "    store_tickets_commission = get_tickets_count(start=start, end=end, store_internal_id=store.internal_id, kind=models.TicketKind.COMMISSION)\n",
    "    store_tickets_claim = get_tickets_count(start=start, end=end, store_internal_id=store.internal_id, kind=models.TicketKind.CLAIM)\n",
    "\n",
    "    if store_average_claim_bill > 0 or store_discharge_anno > 0:\n",
    "        print(store.name)\n",
    "        print(store_average_claim_bill, store_discharge_anno)\n",
    "        print(\"bill total...\", store_claim_total_bill)\n",
    "        print(\"tickets total...\", store_tickets_total, \"...commission\", store_tickets_commission, \"...claims\", store_tickets_claim)"
   ]
  },
  {
   "cell_type": "code",
   "execution_count": 55,
   "id": "irish-companion",
   "metadata": {},
   "outputs": [],
   "source": [
    "def get_tickets_count(\n",
    "        _db: Session = db, *, start: datetime = None, end: datetime = None,\n",
    "        store_internal_id: int = None, owner_id: int = None, \n",
    "        kind: models.TicketKind = None, status: models.TicketStatus = None\n",
    "):\n",
    "    query = crud.ticket.get_query(_db)\n",
    "    if start and end:\n",
    "        query = query.filter(models.Ticket.created_at.between(start, end))\n",
    "    if store_internal_id:\n",
    "        query = query.filter(models.Ticket.store_internal_id == store_internal_id)\n",
    "    if owner_id:\n",
    "        query = query.filter(models.Ticket.owner_id == owner_id)\n",
    "    if kind:\n",
    "        query = query.filter(models.Ticket.kind == kind)\n",
    "    if status:\n",
    "        query = query.filter(models.Ticket.status == status)\n",
    "    return query.count()"
   ]
  },
  {
   "cell_type": "code",
   "execution_count": 56,
   "id": "lyric-heath",
   "metadata": {},
   "outputs": [],
   "source": [
    "x = get_tickets_count()"
   ]
  },
  {
   "cell_type": "code",
   "execution_count": 54,
   "id": "sunrise-assumption",
   "metadata": {},
   "outputs": [
    {
     "data": {
      "text/plain": [
       "6782"
      ]
     },
     "execution_count": 54,
     "metadata": {},
     "output_type": "execute_result"
    }
   ],
   "source": [
    "x"
   ]
  },
  {
   "cell_type": "code",
   "execution_count": null,
   "id": "median-effects",
   "metadata": {},
   "outputs": [],
   "source": []
  }
 ],
 "metadata": {
  "kernelspec": {
   "display_name": "Python 3",
   "language": "python",
   "name": "python3"
  },
  "language_info": {
   "codemirror_mode": {
    "name": "ipython",
    "version": 3
   },
   "file_extension": ".py",
   "mimetype": "text/x-python",
   "name": "python",
   "nbconvert_exporter": "python",
   "pygments_lexer": "ipython3",
   "version": "3.7.7"
  }
 },
 "nbformat": 4,
 "nbformat_minor": 5
}
