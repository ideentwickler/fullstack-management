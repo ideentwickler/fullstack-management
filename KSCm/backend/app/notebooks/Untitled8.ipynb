{
 "cells": [
  {
   "cell_type": "code",
   "execution_count": 5,
   "id": "molecular-missile",
   "metadata": {},
   "outputs": [],
   "source": [
    "import time\n",
    "import typing as t\n",
    "\n",
    "from openpyxl import load_workbook\n",
    "from datetime import datetime\n",
    "from sqlalchemy.sql import func\n",
    "from sqlalchemy.orm import Session\n",
    "\n",
    "from app.core.config import settings\n",
    "from app.db.session import SessionLocal\n",
    "\n",
    "from app import crud, models, schemas\n",
    "\n",
    "db = SessionLocal()"
   ]
  },
  {
   "cell_type": "code",
   "execution_count": 6,
   "id": "according-bandwidth",
   "metadata": {},
   "outputs": [],
   "source": [
    "def get_file(file=\"reklaliste.xlsx\") -> load_workbook:\n",
    "    wb_file = load_workbook(str(settings.SERVER_BASE_DIR) + '/' + file)\n",
    "    i = 0\n",
    "    for sheet in wb_file.sheetnames:\n",
    "        i += 1\n",
    "        if sheet.lower() == \"liste wertreklas\":\n",
    "            break\n",
    "        wb_file.active = i\n",
    "    return wb_file.active"
   ]
  },
  {
   "cell_type": "code",
   "execution_count": 7,
   "id": "emerging-creature",
   "metadata": {},
   "outputs": [],
   "source": [
    "def fetch_claim_data(row: t.List) -> t.List:\n",
    "    data = []\n",
    "    for cell in row:\n",
    "        data.append(cell)\n",
    "    create_claim(data=data)\n",
    "    return data"
   ]
  },
  {
   "cell_type": "code",
   "execution_count": 8,
   "id": "spoken-private",
   "metadata": {},
   "outputs": [],
   "source": [
    "def create_claim(*, data: t.List) -> t.Union[schemas.claim.ClaimBase, None]:\n",
    "    claim_in = schemas.claim.ClaimBase()\n",
    "\n",
    "    if isinstance(data[1], float):\n",
    "        contract_nr = str(data[1]).split(\".0\")[0]\n",
    "        claim_in.contract_nr = int(contract_nr)\n",
    "    if isinstance(data[2], float) or isinstance(data[2], int):\n",
    "        claim_in.discharge = float(data[2])\n",
    "    if isinstance(data[3], float) or isinstance(data[3], int):\n",
    "        claim_in.bill = float(data[3])\n",
    "    if isinstance(data[7], datetime):\n",
    "        claim_in.created_at = datetime.date(data[7])\n",
    "    if isinstance(data[11], str):\n",
    "        claim_in.kind = data[11].upper()\n",
    "        print(claim_in.kind)\n",
    "        try:\n",
    "            claim_in.kind = models.ClaimKind(claim_in.kind).name\n",
    "        except ValueError:\n",
    "            claim_in.kind = None\n",
    "\n",
    "    if claim_in.contract_nr is not None and claim_in.bill is not None and claim_in.created_at is not None:\n",
    "        return claim_in\n",
    "    return None"
   ]
  },
  {
   "cell_type": "code",
   "execution_count": 22,
   "id": "handmade-turner",
   "metadata": {},
   "outputs": [],
   "source": [
    "def iter_claim_rows(file: load_workbook) -> t.List[schemas.Claim]:\n",
    "    i = 0\n",
    "    for row in file.iter_rows(values_only=True, max_col=15):\n",
    "        i += 1\n",
    "        if i  == 10:\n",
    "            break\n",
    "        echo = fetch_claim_data(row)\n",
    "        if echo is not None:\n",
    "            yield echo"
   ]
  },
  {
   "cell_type": "code",
   "execution_count": 23,
   "id": "separate-husband",
   "metadata": {},
   "outputs": [
    {
     "name": "stderr",
     "output_type": "stream",
     "text": [
      "/usr/local/lib/python3.7/site-packages/openpyxl/styles/stylesheet.py:214: UserWarning: Workbook contains no default style, apply openpyxl's default\n",
      "  warn(\"Workbook contains no default style, apply openpyxl's default\")\n"
     ]
    }
   ],
   "source": [
    "claim_file = get_file()"
   ]
  },
  {
   "cell_type": "code",
   "execution_count": 24,
   "id": "micro-england",
   "metadata": {},
   "outputs": [],
   "source": [
    "rows = iter_claim_rows(file=claim_file)"
   ]
  },
  {
   "cell_type": "code",
   "execution_count": 25,
   "id": "southern-discipline",
   "metadata": {},
   "outputs": [
    {
     "name": "stdout",
     "output_type": "stream",
     "text": [
      "[None, None, None, None, None, None, None, None, None, None, None, None, None, None, None]\n",
      "SCHULD LT. MELDUNG\n",
      "[None, 'Auftrag Nr', 'SPEDI BA', 'INV Rekla', 'VKP Rekla', 'Rekla POS', 'TK', 'Rekla Datum', 'Lnr', 'Lieferant', 'HWG', 'Schuld lt. Meldung', 'Maßnahmengruppe', 'Verkaeufer Nr', 'Verkäufername']\n",
      "LIEFERANT\n",
      "[None, 1023309.0, None, 69.97, 0, 31, 2, datetime.datetime(2020, 1, 2, 0, 0), 287, 'Impuls', '8.4.3', 'Lieferant', 'Ersatz(teil)kosten', 1430, 'Frau Naumann']\n",
      "MONTEUR\n",
      "[None, 1068349.0, -120.8, 97.62, 0, 98, 10, datetime.datetime(2020, 1, 2, 0, 0), 400, 'artego', '8.4.3', 'Monteur', 'Ersatz(teil)kosten', 9084, 'Herr Hettinger']\n",
      "MONTEUR\n",
      "[None, 1099803.0, -1142.74, 93.78, 0, 116, 13, datetime.datetime(2020, 1, 2, 0, 0), 2349, 'Schock', '8.4.3', 'Monteur', 'Ersatz(teil)kosten', 2622, 'Herr Yilmaz']\n",
      "VERKÄUFER\n",
      "[None, 1174687.0, None, 342.36, 0, 103, 2, datetime.datetime(2020, 1, 2, 0, 0), 2643, 'Express', '8.4.3', 'Verkäufer', 'Ersatz(teil)kosten', 2572, 'Herr Schindler']\n",
      "VERKÄUFER\n",
      "[None, 1174687.0, None, 38.03, 0, 107, 2, datetime.datetime(2020, 1, 2, 0, 0), 2643, 'Express', '8.4.3', 'Verkäufer', 'Ersatz(teil)kosten', 2572, 'Herr Schindler']\n",
      "KUNDE\n",
      "[None, 1264886.0, None, 9.17, 0, 5, 3, datetime.datetime(2020, 1, 2, 0, 0), 1067, 'GGV', '8.4.3', 'Kunde', 'Ersatz(teil)kosten', 7890, 'Herr Witt']\n",
      "LIEFERANT\n",
      "[None, 1302405.0, None, 44.07, 0, 60, 4, datetime.datetime(2020, 1, 2, 0, 0), 610, 'Nobilia', '8.4.3', 'Lieferant', 'Ersatz(teil)kosten', 7530, 'Herr Bajraktari']\n"
     ]
    }
   ],
   "source": [
    "for row in rows:\n",
    "    print(row)"
   ]
  },
  {
   "cell_type": "code",
   "execution_count": null,
   "id": "emotional-desert",
   "metadata": {},
   "outputs": [],
   "source": []
  }
 ],
 "metadata": {
  "kernelspec": {
   "display_name": "Python 3",
   "language": "python",
   "name": "python3"
  },
  "language_info": {
   "codemirror_mode": {
    "name": "ipython",
    "version": 3
   },
   "file_extension": ".py",
   "mimetype": "text/x-python",
   "name": "python",
   "nbconvert_exporter": "python",
   "pygments_lexer": "ipython3",
   "version": "3.7.7"
  }
 },
 "nbformat": 4,
 "nbformat_minor": 5
}
